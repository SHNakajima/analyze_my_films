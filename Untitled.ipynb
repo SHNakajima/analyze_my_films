{
 "cells": [
  {
   "cell_type": "code",
   "execution_count": 1,
   "metadata": {},
   "outputs": [],
   "source": [
    "from selenium import webdriver\n",
    "from selenium.webdriver.chrome.options import Options\n",
    "from selenium.webdriver.support.select import Select\n",
    "from selenium.webdriver.common.by import By\n",
    "from selenium.webdriver.common.keys import Keys\n",
    "from selenium.webdriver.common.alert import Alert\n",
    "from selenium.webdriver.support.ui import WebDriverWait\n",
    "from selenium.webdriver.support import expected_conditions as EC\n",
    "from selenium.common.exceptions import TimeoutException"
   ]
  },
  {
   "cell_type": "code",
   "execution_count": 2,
   "metadata": {},
   "outputs": [],
   "source": [
    "import requests"
   ]
  },
  {
   "cell_type": "code",
   "execution_count": 3,
   "metadata": {},
   "outputs": [],
   "source": [
    "# Seleniumをあらゆる環境で起動させるChromeオプション\n",
    "options = Options()\n",
    "options.add_argument('--disable-gpu');\n",
    "options.add_argument('--disable-extensions');\n",
    "options.add_argument('--proxy-server=\"direct://\"');\n",
    "options.add_argument('--proxy-bypass-list=*');\n",
    "options.add_argument('--start-maximized');\n",
    "# options.add_argument('--headless'); # ※ヘッドレスモードを使用する場合、コメントアウトを外す"
   ]
  },
  {
   "cell_type": "code",
   "execution_count": 4,
   "metadata": {},
   "outputs": [],
   "source": [
    "DRIVER_PATH = './chromedriver'\n",
    "# DRIVER_PATH = '/Users/Kenta/Desktop/Selenium/chromedriver' # ローカル\n",
    "# DRIVER_PATH = '/app/.chromedriver/bin/chromedriver'        # heroku\n",
    "\n",
    "# ブラウザの起動\n",
    "driver = webdriver.Chrome(executable_path=DRIVER_PATH, options=options)"
   ]
  },
  {
   "cell_type": "raw",
   "metadata": {},
   "source": [
    "# Webページにアクセスする\n",
    "home_url = 'https://filmarks.com/users/l0vemekabu'\n",
    "page = 1\n",
    "driver.get(home_url)\n",
    "\n",
    "status = requests.get( home_url + '?page=' + str(page) ).status_code\n",
    "print(status)"
   ]
  },
  {
   "cell_type": "code",
   "execution_count": 5,
   "metadata": {},
   "outputs": [],
   "source": [
    "# # Googleにアクセスする\n",
    "# url = 'https://google.com/'\n",
    "# driver.get(url)\n",
    "\n",
    "# # 検索窓にSeleniumと入力する\n",
    "# selector = '#tsf > div:nth-child(2) > div.A8SBwf > div.RNNXgb > div > div.a4bIc > input'\n",
    "# element = driver.find_element_by_css_selector(selector)\n",
    "# element.send_keys('Selenium')\n",
    "\n",
    "# # enterキーを押す\n",
    "# element.send_keys(Keys.ENTER)\n",
    "\n",
    "# # 1位の記事のタイトルを取得する\n",
    "# selector = '#rso > div:nth-child(1) > div > div.yuRUbf > a > h3 > span'\n",
    "# element = driver.find_element_by_css_selector(selector)\n",
    "# page_title = element.text\n",
    "\n",
    "# # 1位の記事のURLを取得する\n",
    "# selector = '#rso > div:nth-child(1) > div > div.yuRUbf > a'\n",
    "# element = driver.find_element_by_css_selector(selector)\n",
    "# page_url = element.get_attribute('href')\n",
    "\n",
    "# # ブラウザを終了する(全てのウィンドウを閉じる）\n",
    "# # Chromeのショートカットキー(Command+Q)と同じ動作\n",
    "# driver.quit()\n",
    "\n",
    "# print(page_title, page_url)\n",
    "# # 10分で理解する Selenium - Qiita https://qiita.com/Chanmoro/items/9a3c86bb465c1cce738a"
   ]
  },
  {
   "cell_type": "code",
   "execution_count": null,
   "metadata": {},
   "outputs": [],
   "source": []
  }
 ],
 "metadata": {
  "kernelspec": {
   "display_name": "Python 3",
   "language": "python",
   "name": "python3"
  },
  "language_info": {
   "codemirror_mode": {
    "name": "ipython",
    "version": 3
   },
   "file_extension": ".py",
   "mimetype": "text/x-python",
   "name": "python",
   "nbconvert_exporter": "python",
   "pygments_lexer": "ipython3",
   "version": "3.7.6"
  }
 },
 "nbformat": 4,
 "nbformat_minor": 4
}
