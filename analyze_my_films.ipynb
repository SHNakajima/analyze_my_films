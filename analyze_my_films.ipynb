{
 "cells": [
  {
   "cell_type": "code",
   "execution_count": 34,
   "metadata": {},
   "outputs": [],
   "source": [
    "from selenium import webdriver\n",
    "from selenium.webdriver.chrome.options import Options\n",
    "from selenium.webdriver.support.select import Select\n",
    "from selenium.webdriver.common.by import By\n",
    "from selenium.webdriver.common.keys import Keys\n",
    "from selenium.webdriver.common.alert import Alert\n",
    "from selenium.webdriver.support.ui import WebDriverWait\n",
    "from selenium.webdriver.support import expected_conditions as EC\n",
    "from selenium.common.exceptions import TimeoutException\n",
    "import collections\n",
    "import requests\n",
    "import decimal\n",
    "from IPython.display import clear_output"
   ]
  },
  {
   "cell_type": "code",
   "execution_count": 35,
   "metadata": {},
   "outputs": [],
   "source": [
    "import numpy as np\n",
    "import matplotlib.pyplot as plt"
   ]
  },
  {
   "cell_type": "code",
   "execution_count": 36,
   "metadata": {},
   "outputs": [],
   "source": [
    "from googletrans import Translator"
   ]
  },
  {
   "cell_type": "code",
   "execution_count": 37,
   "metadata": {},
   "outputs": [],
   "source": [
    "# Seleniumをあらゆる環境で起動させるChromeオプション\n",
    "options = Options()\n",
    "options.add_argument('--disable-gpu');\n",
    "options.add_argument('--disable-extensions');\n",
    "options.add_argument('--proxy-server=\"direct://\"');\n",
    "options.add_argument('--proxy-bypass-list=*');\n",
    "options.add_argument('--start-maximized');\n",
    "# options.add_argument('--headless'); # ※ヘッドレスモードを使用する場合、コメントアウトを外す"
   ]
  },
  {
   "cell_type": "code",
   "execution_count": 38,
   "metadata": {},
   "outputs": [],
   "source": [
    "DRIVER_PATH = './chromedriver'\n",
    "# DRIVER_PATH = '/Users/Kenta/Desktop/Selenium/chromedriver' # ローカル\n",
    "# DRIVER_PATH = '/app/.chromedriver/bin/chromedriver'        # heroku\n",
    "\n",
    "# ブラウザの起動\n",
    "driver = webdriver.Chrome(executable_path=DRIVER_PATH, options=options)"
   ]
  },
  {
   "cell_type": "code",
   "execution_count": 39,
   "metadata": {},
   "outputs": [
    {
     "name": "stdout",
     "output_type": "stream",
     "text": [
      "36\n",
      "72\n",
      "108\n",
      "144\n",
      "180\n",
      "216\n",
      "252\n",
      "288\n",
      "324\n",
      "360\n",
      "396\n",
      "401\n",
      "finished loading film list!!!\n"
     ]
    }
   ],
   "source": [
    "# Webページにアクセスする\n",
    "home_url = 'https://filmarks.com/users/buddyranger'\n",
    "page = 1\n",
    "film_list = []\n",
    "driver.get(home_url)\n",
    "\n",
    "\n",
    "while requests.get( home_url + '?page=' + str(page) ).status_code != 404:\n",
    "    driver.get(home_url + '?page=' + str(page))\n",
    "    films_per_page = driver.find_elements_by_class_name('c-content__jacket')\n",
    "    for elem in films_per_page:\n",
    "        film_list.append(elem.get_attribute('href'))\n",
    "    print(len(film_list))\n",
    "    page += 1\n",
    "    \n",
    "print('finished loading film list!!!')"
   ]
  },
  {
   "cell_type": "code",
   "execution_count": 40,
   "metadata": {
    "scrolled": true
   },
   "outputs": [
    {
     "name": "stdout",
     "output_type": "stream",
     "text": [
      "Loading... 0.998%\n",
      "Counter({'アクション': 115, 'SF': 49, 'ドラマ': 48, 'ホラー': 42, 'コメディ': 36, 'スリラー': 31, 'サスペンス': 29, 'ファミリー': 26, 'アニメ': 25, 'アドベンチャー・冒険': 22, 'ファンタジー': 12, '恋愛': 12, 'ミステリー': 10, 'クライム': 10, 'パニック': 8, 'スポーツ': 3, '伝記': 3, 'バイオレンス': 3, '音楽': 2, 'ミュージカル': 2, 'ギャング・マフィア': 1, 'ドキュメンタリー': 1, '歴史': 1})\n",
      "Counter({'アクション': 115, 'SF': 49, 'ドラマ': 48, 'ホラー': 42, 'コメディ': 36, 'スリラー': 31, 'サスペンス': 29, 'ファミリー': 26, 'アニメ': 25, 'アドベンチャー・冒険': 22, 'ファンタジー': 12, '恋愛': 12, 'ミステリー': 10, 'クライム': 10, 'パニック': 8, 'スポーツ': 3, '伝記': 3, 'バイオレンス': 3, '音楽': 2, 'ミュージカル': 2, 'ギャング・マフィア': 1, 'ドキュメンタリー': 1, '歴史': 1})\n"
     ]
    }
   ],
   "source": [
    "genre_selector = 'div.p-content-detail__genre > ul > li'\n",
    "genre_list = []\n",
    "for index, film in enumerate(film_list):\n",
    "    clear_output()\n",
    "    print('Loading... {0}%'.format('{:.3f}'.format(index / len(film_list))))\n",
    "    counter = collections.Counter(genre_list)\n",
    "    print(counter)\n",
    "    driver.get(film)\n",
    "    try:\n",
    "        genres = driver.find_elements_by_css_selector(genre_selector)\n",
    "        for genre in genres:\n",
    "            genre_list.append(genre.text)\n",
    "    except Exception:\n",
    "        genre_list.append('未分類')\n",
    "counter = collections.Counter(genre_list)\n",
    "print(counter)"
   ]
  },
  {
   "cell_type": "code",
   "execution_count": 42,
   "metadata": {},
   "outputs": [
    {
     "name": "stdout",
     "output_type": "stream",
     "text": [
      "['action', 'Suspense', 'Horror', 'Adventure / Adventure', 'SF', 'Mystery', 'comedy', 'panic', 'Drama', 'Fantasy', 'Thriller', 'Sports', 'biography', 'family', 'Anime', 'love', 'musics', 'Gang Mafia', 'musical', 'documentary', 'Crime', 'Violence', 'history']\n"
     ]
    }
   ],
   "source": [
    "translator = Translator()\n",
    "values_en = []\n",
    "for value in counter.keys():\n",
    "    values_en.append(translator.translate(value).text)\n",
    "print(values_en)"
   ]
  },
  {
   "cell_type": "code",
   "execution_count": 43,
   "metadata": {
    "scrolled": true
   },
   "outputs": [
    {
     "data": {
      "text/plain": [
       "([<matplotlib.patches.Wedge at 0x11a5b8f10>,\n",
       "  <matplotlib.patches.Wedge at 0x11a5c44d0>,\n",
       "  <matplotlib.patches.Wedge at 0x11a5c4a10>,\n",
       "  <matplotlib.patches.Wedge at 0x11a5c4f50>,\n",
       "  <matplotlib.patches.Wedge at 0x11a5d1590>,\n",
       "  <matplotlib.patches.Wedge at 0x11a5d1bd0>,\n",
       "  <matplotlib.patches.Wedge at 0x11a5db0d0>,\n",
       "  <matplotlib.patches.Wedge at 0x11a5db610>,\n",
       "  <matplotlib.patches.Wedge at 0x11a5d14d0>,\n",
       "  <matplotlib.patches.Wedge at 0x11a5dbfd0>,\n",
       "  <matplotlib.patches.Wedge at 0x11a595f10>,\n",
       "  <matplotlib.patches.Wedge at 0x11a5e99d0>,\n",
       "  <matplotlib.patches.Wedge at 0x11a5e9f10>,\n",
       "  <matplotlib.patches.Wedge at 0x11a5f5490>,\n",
       "  <matplotlib.patches.Wedge at 0x11a5f59d0>,\n",
       "  <matplotlib.patches.Wedge at 0x11a5f5f10>,\n",
       "  <matplotlib.patches.Wedge at 0x11a603490>,\n",
       "  <matplotlib.patches.Wedge at 0x11a6039d0>,\n",
       "  <matplotlib.patches.Wedge at 0x11a603f10>,\n",
       "  <matplotlib.patches.Wedge at 0x11a60f490>,\n",
       "  <matplotlib.patches.Wedge at 0x11a60f9d0>,\n",
       "  <matplotlib.patches.Wedge at 0x11a60ff10>,\n",
       "  <matplotlib.patches.Wedge at 0x11a61a490>],\n",
       " [Text(0.8154153998434445, 0.7383073382394053, 'action'),\n",
       "  Text(-0.09489746916832137, 1.095898932541431, 'Suspense'),\n",
       "  Text(-0.5661731548615132, 0.9431054865253203, 'Horror'),\n",
       "  Text(-0.89485674142851, 0.6397119760641885, 'Adventure / Adventure'),\n",
       "  Text(-1.0848139646420365, 0.18215010874997178, 'SF'),\n",
       "  Text(-1.0755705805686582, -0.23053834001137363, 'Mystery'),\n",
       "  Text(-0.9624416464628675, -0.5326406641947694, 'comedy'),\n",
       "  Text(-0.7765722941495201, -0.7790606343278753, 'panic'),\n",
       "  Text(-0.4540445396667503, -1.0019199349243477, 'Drama'),\n",
       "  Text(-0.04573509868430378, -1.0990488163627388, 'Fantasy'),\n",
       "  Text(0.25456509966089186, -1.070138593844106, 'Thriller'),\n",
       "  Text(0.4795355489033567, -0.9899725538306386, 'Sports'),\n",
       "  Text(0.5171780655655731, -0.9708382195288008, 'biography'),\n",
       "  Text(0.6874098064025517, -0.8587594296784209, 'family'),\n",
       "  Text(0.9264152254201887, -0.5930892260947429, 'Anime'),\n",
       "  Text(1.0396751597861336, -0.35927087569642724, 'love'),\n",
       "  Text(1.0676461312065384, -0.26482397648194755, 'musics'),\n",
       "  Text(1.0725324519006727, -0.24428290898040986, 'Gang Mafia'),\n",
       "  Text(1.077023609461498, -0.22365183804862113, 'musical'),\n",
       "  Text(1.0811179491699512, -0.20293836498444381, 'documentary'),\n",
       "  Text(1.092712734733359, -0.12640759214360606, 'Crime'),\n",
       "  Text(1.0994371362301074, -0.03518498938667423, 'Violence'),\n",
       "  Text(1.099977483422391, -0.0070381790076440845, 'history')])"
      ]
     },
     "execution_count": 43,
     "metadata": {},
     "output_type": "execute_result"
    },
    {
     "data": {
      "image/png": "[encoded data removed]",
      "text/plain": [
       "<Figure size 432x288 with 1 Axes>"
      ]
     },
     "metadata": {},
     "output_type": "display_data"
    }
   ],
   "source": [
    "# 円グラフを描画\n",
    "x = np.array(list(counter.values()))\n",
    "label = list(counter.keys())\n",
    "plt.pie(x, labels=values_en)"
   ]
  },
  {
   "cell_type": "code",
   "execution_count": null,
   "metadata": {},
   "outputs": [],
   "source": [
    "# # Googleにアクセスする\n",
    "# url = 'https://google.com/'\n",
    "# driver.get(url)\n",
    "\n",
    "# # 検索窓にSeleniumと入力する\n",
    "# selector = '#tsf > div:nth-child(2) > div.A8SBwf > div.RNNXgb > div > div.a4bIc > input'\n",
    "# element = driver.find_element_by_css_selector(selector)\n",
    "# element.send_keys('Selenium')\n",
    "\n",
    "# # enterキーを押す\n",
    "# element.send_keys(Keys.ENTER)\n",
    "\n",
    "# # 1位の記事のタイトルを取得する\n",
    "# selector = '#rso > div:nth-child(1) > div > div.yuRUbf > a > h3 > span'\n",
    "# element = driver.find_element_by_css_selector(selector)\n",
    "# page_title = element.text\n",
    "\n",
    "# # 1位の記事のURLを取得する\n",
    "# selector = '#rso > div:nth-child(1) > div > div.yuRUbf > a'\n",
    "# element = driver.find_element_by_css_selector(selector)\n",
    "# page_url = element.get_attribute('href')\n",
    "\n",
    "# # ブラウザを終了する(全てのウィンドウを閉じる）\n",
    "# # Chromeのショートカットキー(Command+Q)と同じ動作\n",
    "# driver.quit()\n",
    "\n",
    "# print(page_title, page_url)\n",
    "# # 10分で理解する Selenium - Qiita https://qiita.com/Chanmoro/items/9a3c86bb465c1cce738a"
   ]
  },
  {
   "cell_type": "code",
   "execution_count": null,
   "metadata": {
    "scrolled": true
   },
   "outputs": [],
   "source": [
    "print(list(counter.keys()))\n",
    "print(list(counter.values()))"
   ]
  },
  {
   "cell_type": "code",
   "execution_count": null,
   "metadata": {},
   "outputs": [],
   "source": []
  },
  {
   "cell_type": "code",
   "execution_count": null,
   "metadata": {
    "scrolled": true
   },
   "outputs": [],
   "source": [
    "import sys\n",
    "print(sys.path)"
   ]
  },
  {
   "cell_type": "code",
   "execution_count": null,
   "metadata": {},
   "outputs": [],
   "source": [
    "for count in counter:\n",
    "    print(counter)"
   ]
  }
 ],
 "metadata": {
  "kernelspec": {
   "display_name": "Python 3",
   "language": "python",
   "name": "python3"
  },
  "language_info": {
   "codemirror_mode": {
    "name": "ipython",
    "version": 3
   },
   "file_extension": ".py",
   "mimetype": "text/x-python",
   "name": "python",
   "nbconvert_exporter": "python",
   "pygments_lexer": "ipython3",
   "version": "3.7.6"
  }
 },
 "nbformat": 4,
 "nbformat_minor": 4
}
